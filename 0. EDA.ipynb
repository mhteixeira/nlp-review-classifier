{
 "cells": [
  {
   "cell_type": "markdown",
   "metadata": {},
   "source": [
    "# 0. EDA"
   ]
  },
  {
   "cell_type": "code",
   "execution_count": 17,
   "metadata": {},
   "outputs": [],
   "source": [
    "import pandas as pd\n",
    "import numpy as np\n",
    "\n",
    "import warnings\n",
    "warnings.filterwarnings(\"ignore\")"
   ]
  },
  {
   "cell_type": "code",
   "execution_count": 18,
   "metadata": {},
   "outputs": [
    {
     "data": {
      "text/html": [
       "<div>\n",
       "<style scoped>\n",
       "    .dataframe tbody tr th:only-of-type {\n",
       "        vertical-align: middle;\n",
       "    }\n",
       "\n",
       "    .dataframe tbody tr th {\n",
       "        vertical-align: top;\n",
       "    }\n",
       "\n",
       "    .dataframe thead th {\n",
       "        text-align: right;\n",
       "    }\n",
       "</style>\n",
       "<table border=\"1\" class=\"dataframe\">\n",
       "  <thead>\n",
       "    <tr style=\"text-align: right;\">\n",
       "      <th></th>\n",
       "      <th>LABEL</th>\n",
       "      <th>REVIEW</th>\n",
       "    </tr>\n",
       "  </thead>\n",
       "  <tbody>\n",
       "    <tr>\n",
       "      <th>0</th>\n",
       "      <td>TRUTHFULPOSITIVE</td>\n",
       "      <td>The sheraton was a wonderful hotel! When me an...</td>\n",
       "    </tr>\n",
       "    <tr>\n",
       "      <th>1</th>\n",
       "      <td>TRUTHFULPOSITIVE</td>\n",
       "      <td>We stayed at the Omni between Christmas and Ne...</td>\n",
       "    </tr>\n",
       "    <tr>\n",
       "      <th>2</th>\n",
       "      <td>DECEPTIVENEGATIVE</td>\n",
       "      <td>I was REALLY looking forward to a nice relaxin...</td>\n",
       "    </tr>\n",
       "    <tr>\n",
       "      <th>3</th>\n",
       "      <td>TRUTHFULNEGATIVE</td>\n",
       "      <td>First let me say, I try not to be too critical...</td>\n",
       "    </tr>\n",
       "    <tr>\n",
       "      <th>4</th>\n",
       "      <td>DECEPTIVENEGATIVE</td>\n",
       "      <td>The Ambassador East Hotel is a terrible place ...</td>\n",
       "    </tr>\n",
       "    <tr>\n",
       "      <th>...</th>\n",
       "      <td>...</td>\n",
       "      <td>...</td>\n",
       "    </tr>\n",
       "    <tr>\n",
       "      <th>1395</th>\n",
       "      <td>TRUTHFULNEGATIVE</td>\n",
       "      <td>I stayed here for 5 nights last summer. I book...</td>\n",
       "    </tr>\n",
       "    <tr>\n",
       "      <th>1396</th>\n",
       "      <td>TRUTHFULPOSITIVE</td>\n",
       "      <td>Stayed here for 3 nights for a Bridgestone/Fir...</td>\n",
       "    </tr>\n",
       "    <tr>\n",
       "      <th>1397</th>\n",
       "      <td>TRUTHFULNEGATIVE</td>\n",
       "      <td>I am staying here now and actually am compelle...</td>\n",
       "    </tr>\n",
       "    <tr>\n",
       "      <th>1398</th>\n",
       "      <td>TRUTHFULNEGATIVE</td>\n",
       "      <td>We stayed at this hotel with our two teenage d...</td>\n",
       "    </tr>\n",
       "    <tr>\n",
       "      <th>1399</th>\n",
       "      <td>DECEPTIVEPOSITIVE</td>\n",
       "      <td>The rooms were beautiful! The staff was friend...</td>\n",
       "    </tr>\n",
       "  </tbody>\n",
       "</table>\n",
       "<p>1400 rows × 2 columns</p>\n",
       "</div>"
      ],
      "text/plain": [
       "                  LABEL                                             REVIEW\n",
       "0      TRUTHFULPOSITIVE  The sheraton was a wonderful hotel! When me an...\n",
       "1      TRUTHFULPOSITIVE  We stayed at the Omni between Christmas and Ne...\n",
       "2     DECEPTIVENEGATIVE  I was REALLY looking forward to a nice relaxin...\n",
       "3      TRUTHFULNEGATIVE  First let me say, I try not to be too critical...\n",
       "4     DECEPTIVENEGATIVE  The Ambassador East Hotel is a terrible place ...\n",
       "...                 ...                                                ...\n",
       "1395   TRUTHFULNEGATIVE  I stayed here for 5 nights last summer. I book...\n",
       "1396   TRUTHFULPOSITIVE  Stayed here for 3 nights for a Bridgestone/Fir...\n",
       "1397   TRUTHFULNEGATIVE  I am staying here now and actually am compelle...\n",
       "1398   TRUTHFULNEGATIVE  We stayed at this hotel with our two teenage d...\n",
       "1399  DECEPTIVEPOSITIVE  The rooms were beautiful! The staff was friend...\n",
       "\n",
       "[1400 rows x 2 columns]"
      ]
     },
     "execution_count": 18,
     "metadata": {},
     "output_type": "execute_result"
    }
   ],
   "source": [
    "file_path = \"./datasets/train.txt\"\n",
    "train = pd.read_csv(file_path, sep='\\t', header=None, names=['LABEL', 'REVIEW'])\n",
    "train"
   ]
  },
  {
   "cell_type": "code",
   "execution_count": 19,
   "metadata": {},
   "outputs": [
    {
     "name": "stdout",
     "output_type": "stream",
     "text": [
      "DECEPTIVENEGATIVE    352\n",
      "TRUTHFULNEGATIVE     352\n",
      "TRUTHFULPOSITIVE     350\n",
      "DECEPTIVEPOSITIVE    346\n",
      "Name: LABEL, dtype: int64\n"
     ]
    }
   ],
   "source": [
    "# Check class distribution\n",
    "entries_per_label = train['LABEL'].value_counts()\n",
    "print(class_distribution)"
   ]
  },
  {
   "cell_type": "code",
   "execution_count": 20,
   "metadata": {},
   "outputs": [
    {
     "name": "stdout",
     "output_type": "stream",
     "text": [
      "                         mean  min   max\n",
      "LABEL                                   \n",
      "DECEPTIVENEGATIVE  934.715909  178  4074\n",
      "DECEPTIVEPOSITIVE  635.104046  150  1877\n",
      "TRUTHFULNEGATIVE   968.818182  215  3537\n",
      "TRUTHFULPOSITIVE   674.271429  167  2446\n"
     ]
    }
   ],
   "source": [
    "# Calculate the length of each review and add it as a new column\n",
    "train['REVIEW_LEN'] = train['REVIEW'].apply(len)\n",
    "\n",
    "# Calculate mean, min, and max review length for each class\n",
    "class_stats = train.groupby('LABEL')['REVIEW_LEN'].agg(['mean', 'min', 'max'])\n",
    "print(class_stats)"
   ]
  },
  {
   "cell_type": "code",
   "execution_count": 25,
   "metadata": {},
   "outputs": [
    {
     "name": "stdout",
     "output_type": "stream",
     "text": [
      "                         mean  min   max\n",
      "LABEL                                   \n",
      "DECEPTIVENEGATIVE  934.715909  178  4074\n",
      "DECEPTIVEPOSITIVE  635.104046  150  1877\n",
      "TRUTHFULNEGATIVE   968.818182  215  3537\n",
      "TRUTHFULPOSITIVE   674.271429  167  2446\n"
     ]
    }
   ],
   "source": [
    "# Calculate the length of each review and add it as a new column\n",
    "train['REVIEW_WORD_COUNT'] = train['REVIEW'].apply(lambda x: len(x.split(\" \")))\n",
    "\n",
    "# Calculate mean, min, and max review length for each class\n",
    "mean_words_per_label = train.groupby('LABEL')['REVIEW_WORD_COUNT'].mean()\n",
    "print(class_stats)"
   ]
  },
  {
   "cell_type": "code",
   "execution_count": 44,
   "metadata": {},
   "outputs": [
    {
     "data": {
      "image/png": "[encoded data removed]",
      "text/plain": [
       "<Figure size 400x400 with 2 Axes>"
      ]
     },
     "metadata": {},
     "output_type": "display_data"
    }
   ],
   "source": [
    "import matplotlib.pyplot as plt\n",
    "\n",
    "# Create subplots with 1 row and 2 columns\n",
    "fig, axes = plt.subplots(nrows=2, ncols=1, figsize=(4, 4))\n",
    "\n",
    "# Plot number of entries per label\n",
    "axes[0].bar(['DN', 'DP', 'TN', 'TP'], entries_per_label.values, color='skyblue')\n",
    "axes[0].set_xlabel('Label')\n",
    "axes[0].set_ylabel('Count')\n",
    "axes[0].set_title('Number of Entries per Label')\n",
    "\n",
    "# # Plot mean number of words per label\n",
    "axes[1].bar(['DN', 'DP', 'TN', 'TP'], mean_words_per_label.values, color='lightgreen')\n",
    "axes[1].set_xlabel('Label')\n",
    "axes[1].set_ylabel('Mean')\n",
    "axes[1].set_title('Mean Number of Words per Label')\n",
    "# axes[1].tick_params(axis='x', rotation=90)  # Rotate x-axis labels by 45 degrees\n",
    "\n",
    "# Automatically adjust subplot params for better layout\n",
    "plt.tight_layout()\n",
    "\n",
    "# Save the plots\n",
    "plt.savefig('eda.png')"
   ]
  }
 ],
 "metadata": {
  "kernelspec": {
   "display_name": "Python 3",
   "language": "python",
   "name": "python3"
  },
  "language_info": {
   "codemirror_mode": {
    "name": "ipython",
    "version": 3
   },
   "file_extension": ".py",
   "mimetype": "text/x-python",
   "name": "python",
   "nbconvert_exporter": "python",
   "pygments_lexer": "ipython3",
   "version": "3.8.10"
  }
 },
 "nbformat": 4,
 "nbformat_minor": 2
}
